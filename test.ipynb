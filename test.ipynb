{
 "cells": [
  {
   "cell_type": "code",
   "execution_count": 11,
   "metadata": {},
   "outputs": [],
   "source": [
    "import pandas as pd\n",
    "import joblib"
   ]
  },
  {
   "cell_type": "code",
   "execution_count": 12,
   "metadata": {},
   "outputs": [
    {
     "data": {
      "text/html": [
       "<div>\n",
       "<style scoped>\n",
       "    .dataframe tbody tr th:only-of-type {\n",
       "        vertical-align: middle;\n",
       "    }\n",
       "\n",
       "    .dataframe tbody tr th {\n",
       "        vertical-align: top;\n",
       "    }\n",
       "\n",
       "    .dataframe thead th {\n",
       "        text-align: right;\n",
       "    }\n",
       "</style>\n",
       "<table border=\"1\" class=\"dataframe\">\n",
       "  <thead>\n",
       "    <tr style=\"text-align: right;\">\n",
       "      <th></th>\n",
       "      <th>Symptom_1</th>\n",
       "      <th>Symptom_2</th>\n",
       "      <th>Symptom_3</th>\n",
       "      <th>Symptom_4</th>\n",
       "    </tr>\n",
       "  </thead>\n",
       "  <tbody>\n",
       "    <tr>\n",
       "      <th>0</th>\n",
       "      <td>stomach pain</td>\n",
       "      <td>ulcers on tongue</td>\n",
       "      <td>vomiting</td>\n",
       "      <td>cough</td>\n",
       "    </tr>\n",
       "  </tbody>\n",
       "</table>\n",
       "</div>"
      ],
      "text/plain": [
       "      Symptom_1         Symptom_2 Symptom_3 Symptom_4\n",
       "0  stomach pain  ulcers on tongue  vomiting     cough"
      ]
     },
     "execution_count": 12,
     "metadata": {},
     "output_type": "execute_result"
    }
   ],
   "source": [
    "df=pd.read_csv('test.csv')\n",
    "df"
   ]
  },
  {
   "cell_type": "code",
   "execution_count": 13,
   "metadata": {},
   "outputs": [],
   "source": [
    "file=open('mappings.txt','r')\n",
    "maps=eval(file.read())\n",
    "file.close()"
   ]
  },
  {
   "cell_type": "code",
   "execution_count": 14,
   "metadata": {
    "scrolled": true
   },
   "outputs": [
    {
     "data": {
      "text/plain": [
       "{'Disease': {'Fungal infection': 0,\n",
       "  'Allergy': 1,\n",
       "  'GERD': 2,\n",
       "  'Chronic cholestasis': 3,\n",
       "  'Drug Reaction': 4,\n",
       "  'Peptic ulcer diseae': 5,\n",
       "  'AIDS': 6,\n",
       "  'Diabetes': 7,\n",
       "  'Gastroenteritis': 8,\n",
       "  'Bronchial Asthma': 9,\n",
       "  'Hypertension': 10,\n",
       "  'Migraine': 11,\n",
       "  'Cervical spondylosis': 12,\n",
       "  'Paralysis (brain hemorrhage)': 13,\n",
       "  'Jaundice': 14,\n",
       "  'Malaria': 15,\n",
       "  'Chicken pox': 16,\n",
       "  'Dengue': 17,\n",
       "  'Typhoid': 18,\n",
       "  'hepatitis A': 19,\n",
       "  'Hepatitis B': 20,\n",
       "  'Hepatitis C': 21,\n",
       "  'Hepatitis D': 22,\n",
       "  'Hepatitis E': 23,\n",
       "  'Alcoholic hepatitis': 24,\n",
       "  'Tuberculosis': 25,\n",
       "  'Common Cold': 26,\n",
       "  'Pneumonia': 27,\n",
       "  'Dimorphic hemmorhoids(piles)': 28,\n",
       "  'Heart attack': 29,\n",
       "  'Varicose veins': 30,\n",
       "  'Hypothyroidism': 31,\n",
       "  'Hyperthyroidism': 32,\n",
       "  'Hypoglycemia': 33,\n",
       "  'Osteoarthristis': 34,\n",
       "  'Arthritis': 35,\n",
       "  '(vertigo) Paroymsal  Positional Vertigo': 36,\n",
       "  'Acne': 37,\n",
       "  'Urinary tract infection': 38,\n",
       "  'Psoriasis': 39,\n",
       "  'Impetigo': 40},\n",
       " 'Symptom_1': {'itching': 0,\n",
       "  'continuous sneezing': 1,\n",
       "  'stomach pain': 2,\n",
       "  'acidity': 3,\n",
       "  'vomiting': 4,\n",
       "  'skin rash': 5,\n",
       "  'indigestion': 6,\n",
       "  'muscle wasting': 7,\n",
       "  'fatigue': 8,\n",
       "  'weight loss': 9,\n",
       "  'cough': 10,\n",
       "  'headache': 11,\n",
       "  'chest pain': 12,\n",
       "  'back pain': 13,\n",
       "  'weakness in limbs': 14,\n",
       "  'chills': 15,\n",
       "  'joint pain': 16,\n",
       "  'yellowish skin': 17,\n",
       "  'constipation': 18,\n",
       "  'pain during bowel movements': 19,\n",
       "  'cramps': 20,\n",
       "  'weight gain': 21,\n",
       "  'mood swings': 22,\n",
       "  'neck pain': 23,\n",
       "  'muscle weakness': 24,\n",
       "  'stiff neck': 25,\n",
       "  'burning micturition': 26,\n",
       "  'high fever': 27},\n",
       " 'Symptom_2': {'skin rash': 0,\n",
       "  'shivering': 1,\n",
       "  'acidity': 2,\n",
       "  'ulcers on tongue': 3,\n",
       "  'vomiting': 4,\n",
       "  'yellowish skin': 5,\n",
       "  'stomach pain': 6,\n",
       "  'loss of appetite': 7,\n",
       "  'indigestion': 8,\n",
       "  'patches in throat': 9,\n",
       "  'weight loss': 10,\n",
       "  'restlessness': 11,\n",
       "  'sunken eyes': 12,\n",
       "  'cough': 13,\n",
       "  'high fever': 14,\n",
       "  'chest pain': 15,\n",
       "  'dizziness': 16,\n",
       "  'headache': 17,\n",
       "  'weakness in limbs': 18,\n",
       "  'neck pain': 19,\n",
       "  'fatigue': 20,\n",
       "  'chills': 21,\n",
       "  'joint pain': 22,\n",
       "  'lethargy': 23,\n",
       "  'nausea': 24,\n",
       "  'abdominal pain': 25,\n",
       "  'pain during bowel movements': 26,\n",
       "  'pain in anal region': 27,\n",
       "  'breathlessness': 28,\n",
       "  'cramps': 29,\n",
       "  'bruising': 30,\n",
       "  'weight gain': 31,\n",
       "  'cold hands and feets': 32,\n",
       "  'mood swings': 33,\n",
       "  'anxiety': 34,\n",
       "  'knee pain': 35,\n",
       "  'stiff neck': 36,\n",
       "  'swelling joints': 37,\n",
       "  'pus filled pimples': 38,\n",
       "  'bladder discomfort': 39,\n",
       "  'skin peeling': 40,\n",
       "  'blister': 41},\n",
       " 'Symptom_3': {'nodal skin eruptions': 0,\n",
       "  'chills': 1,\n",
       "  'ulcers on tongue': 2,\n",
       "  'vomiting': 3,\n",
       "  'yellowish skin': 4,\n",
       "  'nausea': 5,\n",
       "  'stomach pain': 6,\n",
       "  'burning micturition': 7,\n",
       "  'abdominal pain': 8,\n",
       "  'loss of appetite': 9,\n",
       "  'high fever': 10,\n",
       "  'restlessness': 11,\n",
       "  'lethargy': 12,\n",
       "  'dehydration': 13,\n",
       "  'breathlessness': 14,\n",
       "  'dizziness': 15,\n",
       "  'loss of balance': 16,\n",
       "  'headache': 17,\n",
       "  'blurred and distorted vision': 18,\n",
       "  'neck pain': 19,\n",
       "  'weakness of one body side': 20,\n",
       "  'fatigue': 21,\n",
       "  'weight loss': 22,\n",
       "  'sweating': 23,\n",
       "  'joint pain': 24,\n",
       "  'dark urine': 25,\n",
       "  'swelling of stomach': 26,\n",
       "  'cough': 27,\n",
       "  'pain in anal region': 28,\n",
       "  'bloody stool': 29,\n",
       "  'bruising': 30,\n",
       "  'obesity': 31,\n",
       "  'cold hands and feets': 32,\n",
       "  'mood swings': 33,\n",
       "  'anxiety': 34,\n",
       "  'knee pain': 35,\n",
       "  'hip joint pain': 36,\n",
       "  'swelling joints': 37,\n",
       "  'movement stiffness': 38,\n",
       "  'spinning movements': 39,\n",
       "  'blackheads': 40,\n",
       "  'foul smell of urine': 41,\n",
       "  'skin peeling': 42,\n",
       "  'silver like dusting': 43,\n",
       "  'blister': 44,\n",
       "  'red sore around nose': 45},\n",
       " 'Symptom_4': {'dischromic  patches': 0,\n",
       "  'watering from eyes': 1,\n",
       "  'vomiting': 2,\n",
       "  'cough': 3,\n",
       "  'nausea': 4,\n",
       "  'loss of appetite': 5,\n",
       "  'burning micturition': 6,\n",
       "  'spotting  urination': 7,\n",
       "  'passage of gases': 8,\n",
       "  'abdominal pain': 9,\n",
       "  'extra marital contacts': 10,\n",
       "  'lethargy': 11,\n",
       "  'irregular sugar level': 12,\n",
       "  'diarrhoea': 13,\n",
       "  'breathlessness': 14,\n",
       "  'family history': 15,\n",
       "  'loss of balance': 16,\n",
       "  'lack of concentration': 17,\n",
       "  'blurred and distorted vision': 18,\n",
       "  'excessive hunger': 19,\n",
       "  'dizziness': 20,\n",
       "  'altered sensorium': 21,\n",
       "  'weight loss': 22,\n",
       "  'high fever': 23,\n",
       "  'sweating': 24,\n",
       "  'headache': 25,\n",
       "  'fatigue': 26,\n",
       "  'dark urine': 27,\n",
       "  'yellowish skin': 28,\n",
       "  'yellowing of eyes': 29,\n",
       "  'swelling of stomach': 30,\n",
       "  'distention of abdomen': 31,\n",
       "  'bloody stool': 32,\n",
       "  'irritation in anus': 33,\n",
       "  'chest pain': 34,\n",
       "  'obesity': 35,\n",
       "  'swollen legs': 36,\n",
       "  'mood swings': 37,\n",
       "  'restlessness': 38,\n",
       "  'hip joint pain': 39,\n",
       "  'swelling joints': 40,\n",
       "  'movement stiffness': 41,\n",
       "  'painful walking': 42,\n",
       "  'spinning movements': 43,\n",
       "  'scurring': 44,\n",
       "  'continuous feel of urine': 45,\n",
       "  'silver like dusting': 46,\n",
       "  'small dents in nails': 47,\n",
       "  'red sore around nose': 48,\n",
       "  'yellow crust ooze': 49}}"
      ]
     },
     "execution_count": 14,
     "metadata": {},
     "output_type": "execute_result"
    }
   ],
   "source": [
    "maps"
   ]
  },
  {
   "cell_type": "code",
   "execution_count": 15,
   "metadata": {},
   "outputs": [
    {
     "data": {
      "text/html": [
       "<div>\n",
       "<style scoped>\n",
       "    .dataframe tbody tr th:only-of-type {\n",
       "        vertical-align: middle;\n",
       "    }\n",
       "\n",
       "    .dataframe tbody tr th {\n",
       "        vertical-align: top;\n",
       "    }\n",
       "\n",
       "    .dataframe thead th {\n",
       "        text-align: right;\n",
       "    }\n",
       "</style>\n",
       "<table border=\"1\" class=\"dataframe\">\n",
       "  <thead>\n",
       "    <tr style=\"text-align: right;\">\n",
       "      <th></th>\n",
       "      <th>Symptom_1</th>\n",
       "      <th>Symptom_2</th>\n",
       "      <th>Symptom_3</th>\n",
       "      <th>Symptom_4</th>\n",
       "    </tr>\n",
       "  </thead>\n",
       "  <tbody>\n",
       "    <tr>\n",
       "      <th>0</th>\n",
       "      <td>2</td>\n",
       "      <td>3</td>\n",
       "      <td>3</td>\n",
       "      <td>3</td>\n",
       "    </tr>\n",
       "  </tbody>\n",
       "</table>\n",
       "</div>"
      ],
      "text/plain": [
       "   Symptom_1  Symptom_2  Symptom_3  Symptom_4\n",
       "0          2          3          3          3"
      ]
     },
     "execution_count": 15,
     "metadata": {},
     "output_type": "execute_result"
    }
   ],
   "source": [
    "df.replace(maps,inplace=True)\n",
    "df"
   ]
  },
  {
   "cell_type": "code",
   "execution_count": 16,
   "metadata": {},
   "outputs": [],
   "source": [
    "classifier=joblib.load('model_rf.joblib')\n",
    "#x=model.predict(ds)\n",
    "#x[0]"
   ]
  },
  {
   "cell_type": "code",
   "execution_count": 17,
   "metadata": {},
   "outputs": [
    {
     "data": {
      "text/plain": [
       "2"
      ]
     },
     "execution_count": 17,
     "metadata": {},
     "output_type": "execute_result"
    }
   ],
   "source": [
    "y_pred=classifier.predict(df)\n",
    "y_pred[0]\n"
   ]
  },
  {
   "cell_type": "code",
   "execution_count": 18,
   "metadata": {},
   "outputs": [
    {
     "name": "stdout",
     "output_type": "stream",
     "text": [
      "GERD\n"
     ]
    }
   ],
   "source": [
    "out={v: k for k, v in maps['Disease'].items()}[y_pred[0]]\n",
    "print(out)"
   ]
  }
 ],
 "metadata": {
  "kernelspec": {
   "display_name": "Python 3",
   "language": "python",
   "name": "python3"
  },
  "language_info": {
   "codemirror_mode": {
    "name": "ipython",
    "version": 3
   },
   "file_extension": ".py",
   "mimetype": "text/x-python",
   "name": "python",
   "nbconvert_exporter": "python",
   "pygments_lexer": "ipython3",
   "version": "3.6.5"
  }
 },
 "nbformat": 4,
 "nbformat_minor": 2
}
