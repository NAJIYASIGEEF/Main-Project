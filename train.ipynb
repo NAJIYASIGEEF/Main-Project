{
 "cells": [
  {
   "cell_type": "code",
   "execution_count": 53,
   "metadata": {},
   "outputs": [],
   "source": [
    "import pandas as pd\n",
    "from sklearn.metrics import accuracy_score, confusion_matrix, classification_report\n",
    "from sklearn.model_selection import train_test_split\n",
    "from sklearn.ensemble import RandomForestClassifier\n",
    "import joblib\n",
    "from sklearn.svm import SVC\n",
    "import matplotlib.pyplot as plt"
   ]
  },
  {
   "cell_type": "code",
   "execution_count": 99,
   "metadata": {},
   "outputs": [
    {
     "data": {
      "text/html": [
       "<div>\n",
       "<style scoped>\n",
       "    .dataframe tbody tr th:only-of-type {\n",
       "        vertical-align: middle;\n",
       "    }\n",
       "\n",
       "    .dataframe tbody tr th {\n",
       "        vertical-align: top;\n",
       "    }\n",
       "\n",
       "    .dataframe thead th {\n",
       "        text-align: right;\n",
       "    }\n",
       "</style>\n",
       "<table border=\"1\" class=\"dataframe\">\n",
       "  <thead>\n",
       "    <tr style=\"text-align: right;\">\n",
       "      <th></th>\n",
       "      <th>Disease</th>\n",
       "      <th>Symptom_1</th>\n",
       "      <th>Symptom_2</th>\n",
       "      <th>Symptom_3</th>\n",
       "      <th>Symptom_4</th>\n",
       "      <th>Symptom 5</th>\n",
       "      <th>Symptom 6</th>\n",
       "      <th>Symptom 7</th>\n",
       "      <th>Symptom 8</th>\n",
       "      <th>Symptom 9</th>\n",
       "      <th>Symptom 10</th>\n",
       "      <th>Symptom 11</th>\n",
       "      <th>Symptom 12</th>\n",
       "      <th>Symptom 13</th>\n",
       "      <th>Symptom 14</th>\n",
       "      <th>Symptom 15</th>\n",
       "      <th>Symptom 16</th>\n",
       "      <th>Symptom 17</th>\n",
       "    </tr>\n",
       "  </thead>\n",
       "  <tbody>\n",
       "    <tr>\n",
       "      <th>0</th>\n",
       "      <td>Fungal infection</td>\n",
       "      <td>itching</td>\n",
       "      <td>skin rash</td>\n",
       "      <td>nodal skin eruptions</td>\n",
       "      <td>dischromic  patches</td>\n",
       "      <td>NaN</td>\n",
       "      <td>NaN</td>\n",
       "      <td>NaN</td>\n",
       "      <td>NaN</td>\n",
       "      <td>NaN</td>\n",
       "      <td>NaN</td>\n",
       "      <td>NaN</td>\n",
       "      <td>NaN</td>\n",
       "      <td>NaN</td>\n",
       "      <td>NaN</td>\n",
       "      <td>NaN</td>\n",
       "      <td>NaN</td>\n",
       "      <td>NaN</td>\n",
       "    </tr>\n",
       "    <tr>\n",
       "      <th>1</th>\n",
       "      <td>Fungal infection</td>\n",
       "      <td>skin rash</td>\n",
       "      <td>nodal skin eruptions</td>\n",
       "      <td>dischromic  patches</td>\n",
       "      <td>NaN</td>\n",
       "      <td>NaN</td>\n",
       "      <td>NaN</td>\n",
       "      <td>NaN</td>\n",
       "      <td>NaN</td>\n",
       "      <td>NaN</td>\n",
       "      <td>NaN</td>\n",
       "      <td>NaN</td>\n",
       "      <td>NaN</td>\n",
       "      <td>NaN</td>\n",
       "      <td>NaN</td>\n",
       "      <td>NaN</td>\n",
       "      <td>NaN</td>\n",
       "      <td>NaN</td>\n",
       "    </tr>\n",
       "    <tr>\n",
       "      <th>2</th>\n",
       "      <td>Fungal infection</td>\n",
       "      <td>itching</td>\n",
       "      <td>nodal skin eruptions</td>\n",
       "      <td>dischromic  patches</td>\n",
       "      <td>NaN</td>\n",
       "      <td>NaN</td>\n",
       "      <td>NaN</td>\n",
       "      <td>NaN</td>\n",
       "      <td>NaN</td>\n",
       "      <td>NaN</td>\n",
       "      <td>NaN</td>\n",
       "      <td>NaN</td>\n",
       "      <td>NaN</td>\n",
       "      <td>NaN</td>\n",
       "      <td>NaN</td>\n",
       "      <td>NaN</td>\n",
       "      <td>NaN</td>\n",
       "      <td>NaN</td>\n",
       "    </tr>\n",
       "    <tr>\n",
       "      <th>3</th>\n",
       "      <td>Fungal infection</td>\n",
       "      <td>itching</td>\n",
       "      <td>skin rash</td>\n",
       "      <td>dischromic  patches</td>\n",
       "      <td>NaN</td>\n",
       "      <td>NaN</td>\n",
       "      <td>NaN</td>\n",
       "      <td>NaN</td>\n",
       "      <td>NaN</td>\n",
       "      <td>NaN</td>\n",
       "      <td>NaN</td>\n",
       "      <td>NaN</td>\n",
       "      <td>NaN</td>\n",
       "      <td>NaN</td>\n",
       "      <td>NaN</td>\n",
       "      <td>NaN</td>\n",
       "      <td>NaN</td>\n",
       "      <td>NaN</td>\n",
       "    </tr>\n",
       "    <tr>\n",
       "      <th>4</th>\n",
       "      <td>Fungal infection</td>\n",
       "      <td>itching</td>\n",
       "      <td>skin rash</td>\n",
       "      <td>nodal skin eruptions</td>\n",
       "      <td>NaN</td>\n",
       "      <td>NaN</td>\n",
       "      <td>NaN</td>\n",
       "      <td>NaN</td>\n",
       "      <td>NaN</td>\n",
       "      <td>NaN</td>\n",
       "      <td>NaN</td>\n",
       "      <td>NaN</td>\n",
       "      <td>NaN</td>\n",
       "      <td>NaN</td>\n",
       "      <td>NaN</td>\n",
       "      <td>NaN</td>\n",
       "      <td>NaN</td>\n",
       "      <td>NaN</td>\n",
       "    </tr>\n",
       "  </tbody>\n",
       "</table>\n",
       "</div>"
      ],
      "text/plain": [
       "            Disease  Symptom_1             Symptom_2             Symptom_3  \\\n",
       "0  Fungal infection    itching             skin rash  nodal skin eruptions   \n",
       "1  Fungal infection  skin rash  nodal skin eruptions   dischromic  patches   \n",
       "2  Fungal infection    itching  nodal skin eruptions   dischromic  patches   \n",
       "3  Fungal infection    itching             skin rash   dischromic  patches   \n",
       "4  Fungal infection    itching             skin rash  nodal skin eruptions   \n",
       "\n",
       "             Symptom_4 Symptom 5 Symptom 6 Symptom 7 Symptom 8 Symptom 9  \\\n",
       "0  dischromic  patches       NaN       NaN       NaN       NaN       NaN   \n",
       "1                  NaN       NaN       NaN       NaN       NaN       NaN   \n",
       "2                  NaN       NaN       NaN       NaN       NaN       NaN   \n",
       "3                  NaN       NaN       NaN       NaN       NaN       NaN   \n",
       "4                  NaN       NaN       NaN       NaN       NaN       NaN   \n",
       "\n",
       "  Symptom 10 Symptom 11 Symptom 12 Symptom 13 Symptom 14 Symptom 15  \\\n",
       "0        NaN        NaN        NaN        NaN        NaN        NaN   \n",
       "1        NaN        NaN        NaN        NaN        NaN        NaN   \n",
       "2        NaN        NaN        NaN        NaN        NaN        NaN   \n",
       "3        NaN        NaN        NaN        NaN        NaN        NaN   \n",
       "4        NaN        NaN        NaN        NaN        NaN        NaN   \n",
       "\n",
       "  Symptom 16 Symptom 17  \n",
       "0        NaN        NaN  \n",
       "1        NaN        NaN  \n",
       "2        NaN        NaN  \n",
       "3        NaN        NaN  \n",
       "4        NaN        NaN  "
      ]
     },
     "execution_count": 99,
     "metadata": {},
     "output_type": "execute_result"
    }
   ],
   "source": [
    "data=pd.read_csv('dataset.csv')\n",
    "data.head()"
   ]
  },
  {
   "cell_type": "code",
   "execution_count": 100,
   "metadata": {
    "scrolled": true
   },
   "outputs": [
    {
     "data": {
      "text/html": [
       "<div>\n",
       "<style scoped>\n",
       "    .dataframe tbody tr th:only-of-type {\n",
       "        vertical-align: middle;\n",
       "    }\n",
       "\n",
       "    .dataframe tbody tr th {\n",
       "        vertical-align: top;\n",
       "    }\n",
       "\n",
       "    .dataframe thead th {\n",
       "        text-align: right;\n",
       "    }\n",
       "</style>\n",
       "<table border=\"1\" class=\"dataframe\">\n",
       "  <thead>\n",
       "    <tr style=\"text-align: right;\">\n",
       "      <th></th>\n",
       "      <th>Disease</th>\n",
       "      <th>Symptom_1</th>\n",
       "      <th>Symptom_2</th>\n",
       "      <th>Symptom_3</th>\n",
       "      <th>Symptom_4</th>\n",
       "    </tr>\n",
       "  </thead>\n",
       "  <tbody>\n",
       "    <tr>\n",
       "      <th>0</th>\n",
       "      <td>Fungal infection</td>\n",
       "      <td>itching</td>\n",
       "      <td>skin rash</td>\n",
       "      <td>nodal skin eruptions</td>\n",
       "      <td>dischromic  patches</td>\n",
       "    </tr>\n",
       "    <tr>\n",
       "      <th>1</th>\n",
       "      <td>Fungal infection</td>\n",
       "      <td>skin rash</td>\n",
       "      <td>nodal skin eruptions</td>\n",
       "      <td>dischromic  patches</td>\n",
       "      <td>NaN</td>\n",
       "    </tr>\n",
       "    <tr>\n",
       "      <th>2</th>\n",
       "      <td>Fungal infection</td>\n",
       "      <td>itching</td>\n",
       "      <td>nodal skin eruptions</td>\n",
       "      <td>dischromic  patches</td>\n",
       "      <td>NaN</td>\n",
       "    </tr>\n",
       "    <tr>\n",
       "      <th>3</th>\n",
       "      <td>Fungal infection</td>\n",
       "      <td>itching</td>\n",
       "      <td>skin rash</td>\n",
       "      <td>dischromic  patches</td>\n",
       "      <td>NaN</td>\n",
       "    </tr>\n",
       "    <tr>\n",
       "      <th>4</th>\n",
       "      <td>Fungal infection</td>\n",
       "      <td>itching</td>\n",
       "      <td>skin rash</td>\n",
       "      <td>nodal skin eruptions</td>\n",
       "      <td>NaN</td>\n",
       "    </tr>\n",
       "  </tbody>\n",
       "</table>\n",
       "</div>"
      ],
      "text/plain": [
       "            Disease  Symptom_1             Symptom_2             Symptom_3  \\\n",
       "0  Fungal infection    itching             skin rash  nodal skin eruptions   \n",
       "1  Fungal infection  skin rash  nodal skin eruptions   dischromic  patches   \n",
       "2  Fungal infection    itching  nodal skin eruptions   dischromic  patches   \n",
       "3  Fungal infection    itching             skin rash   dischromic  patches   \n",
       "4  Fungal infection    itching             skin rash  nodal skin eruptions   \n",
       "\n",
       "             Symptom_4  \n",
       "0  dischromic  patches  \n",
       "1                  NaN  \n",
       "2                  NaN  \n",
       "3                  NaN  \n",
       "4                  NaN  "
      ]
     },
     "execution_count": 100,
     "metadata": {},
     "output_type": "execute_result"
    }
   ],
   "source": [
    "data=data.iloc[:,:5]\n",
    "#data.dropna(inplace=True)\n",
    "data.head()"
   ]
  },
  {
   "cell_type": "code",
   "execution_count": 56,
   "metadata": {},
   "outputs": [
    {
     "data": {
      "image/png": "[encoded data removed]",
      "text/plain": [
       "<Figure size 432x288 with 1 Axes>"
      ]
     },
     "metadata": {},
     "output_type": "display_data"
    }
   ],
   "source": [
    "import seaborn as sns\n",
    "import matplotlib.pyplot as plt\n",
    "\n",
    "colors = [\"#0101DF\", \"#DF0101\"]\n",
    "\n",
    "sns.countplot('Disease', data=data, palette=colors)\n",
    "plt.title('Class Distributions \\n ', fontsize=14)\n",
    "\n",
    "# Rotating the y-axis label\n",
    "plt.ylabel('Count')\n",
    "plt.xticks(rotation=90)  # Rotate x-axis labels if needed\n",
    "\n",
    "# Accessing and rotating y-axis label\n",
    "plt.gca().yaxis.get_label().set_rotation(0)\n",
    "plt.gca().yaxis.get_label().set_verticalalignment('center')\n",
    "\n",
    "plt.show()\n",
    "\n",
    "\n",
    "\n",
    "\n",
    "\n",
    "\n",
    "\n"
   ]
  },
  {
   "cell_type": "code",
   "execution_count": 57,
   "metadata": {
    "scrolled": true
   },
   "outputs": [
    {
     "data": {
      "text/plain": [
       "array(['Fungal infection', 'Allergy', 'GERD', 'Chronic cholestasis',\n",
       "       'Drug Reaction', 'Peptic ulcer diseae', 'AIDS', 'Diabetes',\n",
       "       'Gastroenteritis', 'Bronchial Asthma', 'Hypertension', 'Migraine',\n",
       "       'Cervical spondylosis', 'Paralysis (brain hemorrhage)', 'Jaundice',\n",
       "       'Malaria', 'Chicken pox', 'Dengue', 'Typhoid', 'hepatitis A',\n",
       "       'Hepatitis B', 'Hepatitis C', 'Hepatitis D', 'Hepatitis E',\n",
       "       'Alcoholic hepatitis', 'Tuberculosis', 'Common Cold', 'Pneumonia',\n",
       "       'Dimorphic hemmorhoids(piles)', 'Heart attack', 'Varicose veins',\n",
       "       'Hypothyroidism', 'Hyperthyroidism', 'Hypoglycemia',\n",
       "       'Osteoarthristis', 'Arthritis',\n",
       "       '(vertigo) Paroymsal  Positional Vertigo', 'Acne',\n",
       "       'Urinary tract infection', 'Psoriasis', 'Impetigo'], dtype=object)"
      ]
     },
     "execution_count": 57,
     "metadata": {},
     "output_type": "execute_result"
    }
   ],
   "source": [
    "data['Disease'].unique()"
   ]
  },
  {
   "cell_type": "code",
   "execution_count": 101,
   "metadata": {
    "scrolled": true
   },
   "outputs": [
    {
     "name": "stdout",
     "output_type": "stream",
     "text": [
      "34\n",
      "48\n",
      "54\n",
      "51\n"
     ]
    }
   ],
   "source": [
    "print(len(data['Symptom_1'].unique()))\n",
    "print(len(data['Symptom_2'].unique()))\n",
    "print(len(data['Symptom_3'].unique()))\n",
    "print(len(data['Symptom_4'].unique()))"
   ]
  },
  {
   "cell_type": "code",
   "execution_count": 102,
   "metadata": {
    "scrolled": true
   },
   "outputs": [
    {
     "data": {
      "text/plain": [
       "array(['itching', 'skin rash', 'continuous sneezing', 'shivering',\n",
       "       'stomach pain', 'acidity', 'vomiting', 'indigestion',\n",
       "       'muscle wasting', 'patches in throat', 'fatigue', 'weight loss',\n",
       "       'sunken eyes', 'cough', 'headache', 'chest pain', 'back pain',\n",
       "       'weakness in limbs', 'chills', 'joint pain', 'yellowish skin',\n",
       "       'constipation', 'pain during bowel movements', 'breathlessness',\n",
       "       'cramps', 'weight gain', 'mood swings', 'neck pain',\n",
       "       'muscle weakness', 'stiff neck', 'pus filled pimples',\n",
       "       'burning micturition', 'bladder discomfort', 'high fever'],\n",
       "      dtype=object)"
      ]
     },
     "execution_count": 102,
     "metadata": {},
     "output_type": "execute_result"
    }
   ],
   "source": [
    "data['Symptom_1'].unique()"
   ]
  },
  {
   "cell_type": "code",
   "execution_count": 103,
   "metadata": {},
   "outputs": [
    {
     "data": {
      "text/plain": [
       "array(['skin rash', 'nodal skin eruptions', 'shivering', 'chills',\n",
       "       'acidity', 'ulcers on tongue', 'vomiting', 'yellowish skin',\n",
       "       'stomach pain', 'loss of appetite', 'indigestion',\n",
       "       'patches in throat', 'high fever', 'weight loss', 'restlessness',\n",
       "       'sunken eyes', 'dehydration', 'cough', 'chest pain', 'dizziness',\n",
       "       'headache', 'weakness in limbs', 'neck pain',\n",
       "       'weakness of one body side', 'fatigue', 'joint pain', 'lethargy',\n",
       "       'nausea', 'abdominal pain', 'pain during bowel movements',\n",
       "       'pain in anal region', 'breathlessness', 'sweating', 'cramps',\n",
       "       'bruising', 'weight gain', 'cold hands and feets', 'mood swings',\n",
       "       'anxiety', 'knee pain', 'stiff neck', 'swelling joints',\n",
       "       'pus filled pimples', 'blackheads', 'bladder discomfort',\n",
       "       'foul smell of urine', 'skin peeling', 'blister'], dtype=object)"
      ]
     },
     "execution_count": 103,
     "metadata": {},
     "output_type": "execute_result"
    }
   ],
   "source": [
    "data['Symptom_2'].unique()"
   ]
  },
  {
   "cell_type": "code",
   "execution_count": 58,
   "metadata": {
    "scrolled": false
   },
   "outputs": [
    {
     "name": "stdout",
     "output_type": "stream",
     "text": [
      "Bronchial Asthma                           120\n",
      "Osteoarthristis                            120\n",
      "Hepatitis E                                120\n",
      "Typhoid                                    120\n",
      "Psoriasis                                  120\n",
      "Hepatitis C                                120\n",
      "Malaria                                    120\n",
      "Hypoglycemia                               120\n",
      "Arthritis                                  120\n",
      "Tuberculosis                               120\n",
      "Impetigo                                   120\n",
      "Migraine                                   120\n",
      "Hypothyroidism                             120\n",
      "Jaundice                                   120\n",
      "Drug Reaction                              120\n",
      "hepatitis A                                120\n",
      "Peptic ulcer diseae                        120\n",
      "Dimorphic hemmorhoids(piles)               120\n",
      "Dengue                                     120\n",
      "Hepatitis B                                120\n",
      "Alcoholic hepatitis                        120\n",
      "Common Cold                                120\n",
      "Varicose veins                             120\n",
      "Diabetes                                   120\n",
      "Chicken pox                                120\n",
      "Chronic cholestasis                        120\n",
      "Hypertension                               120\n",
      "Pneumonia                                  120\n",
      "Hepatitis D                                120\n",
      "GERD                                       120\n",
      "Cervical spondylosis                       120\n",
      "(vertigo) Paroymsal  Positional Vertigo    120\n",
      "Hyperthyroidism                            120\n",
      "AIDS                                        78\n",
      "Gastroenteritis                             78\n",
      "Urinary tract infection                     78\n",
      "Paralysis (brain hemorrhage)                78\n",
      "Acne                                        78\n",
      "Heart attack                                78\n",
      "Allergy                                     72\n",
      "Fungal infection                            72\n",
      "Name: Disease, dtype: int64\n"
     ]
    }
   ],
   "source": [
    "label_counts = data['Disease'].value_counts()\n",
    "\n",
    "# Print the counts\n",
    "print(label_counts)"
   ]
  },
  {
   "cell_type": "code",
   "execution_count": 59,
   "metadata": {
    "scrolled": false
   },
   "outputs": [
    {
     "data": {
      "text/html": [
       "<div>\n",
       "<style scoped>\n",
       "    .dataframe tbody tr th:only-of-type {\n",
       "        vertical-align: middle;\n",
       "    }\n",
       "\n",
       "    .dataframe tbody tr th {\n",
       "        vertical-align: top;\n",
       "    }\n",
       "\n",
       "    .dataframe thead th {\n",
       "        text-align: right;\n",
       "    }\n",
       "</style>\n",
       "<table border=\"1\" class=\"dataframe\">\n",
       "  <thead>\n",
       "    <tr style=\"text-align: right;\">\n",
       "      <th></th>\n",
       "      <th>Disease</th>\n",
       "      <th>Symptom_1</th>\n",
       "      <th>Symptom_2</th>\n",
       "      <th>Symptom_3</th>\n",
       "      <th>Symptom_4</th>\n",
       "    </tr>\n",
       "  </thead>\n",
       "  <tbody>\n",
       "    <tr>\n",
       "      <th>0</th>\n",
       "      <td>0</td>\n",
       "      <td>0</td>\n",
       "      <td>0</td>\n",
       "      <td>0</td>\n",
       "      <td>0</td>\n",
       "    </tr>\n",
       "    <tr>\n",
       "      <th>9</th>\n",
       "      <td>0</td>\n",
       "      <td>0</td>\n",
       "      <td>0</td>\n",
       "      <td>0</td>\n",
       "      <td>0</td>\n",
       "    </tr>\n",
       "    <tr>\n",
       "      <th>10</th>\n",
       "      <td>1</td>\n",
       "      <td>1</td>\n",
       "      <td>1</td>\n",
       "      <td>1</td>\n",
       "      <td>1</td>\n",
       "    </tr>\n",
       "    <tr>\n",
       "      <th>19</th>\n",
       "      <td>1</td>\n",
       "      <td>1</td>\n",
       "      <td>1</td>\n",
       "      <td>1</td>\n",
       "      <td>1</td>\n",
       "    </tr>\n",
       "    <tr>\n",
       "      <th>20</th>\n",
       "      <td>2</td>\n",
       "      <td>2</td>\n",
       "      <td>2</td>\n",
       "      <td>2</td>\n",
       "      <td>2</td>\n",
       "    </tr>\n",
       "  </tbody>\n",
       "</table>\n",
       "</div>"
      ],
      "text/plain": [
       "    Disease  Symptom_1  Symptom_2  Symptom_3  Symptom_4\n",
       "0         0          0          0          0          0\n",
       "9         0          0          0          0          0\n",
       "10        1          1          1          1          1\n",
       "19        1          1          1          1          1\n",
       "20        2          2          2          2          2"
      ]
     },
     "execution_count": 59,
     "metadata": {},
     "output_type": "execute_result"
    }
   ],
   "source": [
    "maps=dict()\n",
    "def find_category_mappings(data, variable):\n",
    "    return {k: i for i, k in enumerate(data[variable].unique())}\n",
    "def integer_encode(data,variable, ordinal_mapping):\n",
    "    data[variable] = data[variable].map(ordinal_mapping)\n",
    "for variable in ['Disease','Symptom_1','Symptom_2','Symptom_3','Symptom_4']:\n",
    "    #print(variable)\n",
    "    mappings = find_category_mappings(data,variable)\n",
    "    maps[variable]=mappings\n",
    "    integer_encode(data, variable, mappings)\n",
    "data.head()"
   ]
  },
  {
   "cell_type": "code",
   "execution_count": 60,
   "metadata": {},
   "outputs": [
    {
     "data": {
      "text/plain": [
       "{'Disease': {'Fungal infection': 0,\n",
       "  'Allergy': 1,\n",
       "  'GERD': 2,\n",
       "  'Chronic cholestasis': 3,\n",
       "  'Drug Reaction': 4,\n",
       "  'Peptic ulcer diseae': 5,\n",
       "  'AIDS': 6,\n",
       "  'Diabetes': 7,\n",
       "  'Gastroenteritis': 8,\n",
       "  'Bronchial Asthma': 9,\n",
       "  'Hypertension': 10,\n",
       "  'Migraine': 11,\n",
       "  'Cervical spondylosis': 12,\n",
       "  'Paralysis (brain hemorrhage)': 13,\n",
       "  'Jaundice': 14,\n",
       "  'Malaria': 15,\n",
       "  'Chicken pox': 16,\n",
       "  'Dengue': 17,\n",
       "  'Typhoid': 18,\n",
       "  'hepatitis A': 19,\n",
       "  'Hepatitis B': 20,\n",
       "  'Hepatitis C': 21,\n",
       "  'Hepatitis D': 22,\n",
       "  'Hepatitis E': 23,\n",
       "  'Alcoholic hepatitis': 24,\n",
       "  'Tuberculosis': 25,\n",
       "  'Common Cold': 26,\n",
       "  'Pneumonia': 27,\n",
       "  'Dimorphic hemmorhoids(piles)': 28,\n",
       "  'Heart attack': 29,\n",
       "  'Varicose veins': 30,\n",
       "  'Hypothyroidism': 31,\n",
       "  'Hyperthyroidism': 32,\n",
       "  'Hypoglycemia': 33,\n",
       "  'Osteoarthristis': 34,\n",
       "  'Arthritis': 35,\n",
       "  '(vertigo) Paroymsal  Positional Vertigo': 36,\n",
       "  'Acne': 37,\n",
       "  'Urinary tract infection': 38,\n",
       "  'Psoriasis': 39,\n",
       "  'Impetigo': 40},\n",
       " 'Symptom_1': {'itching': 0,\n",
       "  'continuous sneezing': 1,\n",
       "  'stomach pain': 2,\n",
       "  'acidity': 3,\n",
       "  'vomiting': 4,\n",
       "  'skin rash': 5,\n",
       "  'indigestion': 6,\n",
       "  'muscle wasting': 7,\n",
       "  'fatigue': 8,\n",
       "  'weight loss': 9,\n",
       "  'cough': 10,\n",
       "  'headache': 11,\n",
       "  'chest pain': 12,\n",
       "  'back pain': 13,\n",
       "  'weakness in limbs': 14,\n",
       "  'chills': 15,\n",
       "  'joint pain': 16,\n",
       "  'yellowish skin': 17,\n",
       "  'constipation': 18,\n",
       "  'pain during bowel movements': 19,\n",
       "  'cramps': 20,\n",
       "  'weight gain': 21,\n",
       "  'mood swings': 22,\n",
       "  'neck pain': 23,\n",
       "  'muscle weakness': 24,\n",
       "  'stiff neck': 25,\n",
       "  'burning micturition': 26,\n",
       "  'high fever': 27},\n",
       " 'Symptom_2': {'skin rash': 0,\n",
       "  'shivering': 1,\n",
       "  'acidity': 2,\n",
       "  'ulcers on tongue': 3,\n",
       "  'vomiting': 4,\n",
       "  'yellowish skin': 5,\n",
       "  'stomach pain': 6,\n",
       "  'loss of appetite': 7,\n",
       "  'indigestion': 8,\n",
       "  'patches in throat': 9,\n",
       "  'weight loss': 10,\n",
       "  'restlessness': 11,\n",
       "  'sunken eyes': 12,\n",
       "  'cough': 13,\n",
       "  'high fever': 14,\n",
       "  'chest pain': 15,\n",
       "  'dizziness': 16,\n",
       "  'headache': 17,\n",
       "  'weakness in limbs': 18,\n",
       "  'neck pain': 19,\n",
       "  'fatigue': 20,\n",
       "  'chills': 21,\n",
       "  'joint pain': 22,\n",
       "  'lethargy': 23,\n",
       "  'nausea': 24,\n",
       "  'abdominal pain': 25,\n",
       "  'pain during bowel movements': 26,\n",
       "  'pain in anal region': 27,\n",
       "  'breathlessness': 28,\n",
       "  'cramps': 29,\n",
       "  'bruising': 30,\n",
       "  'weight gain': 31,\n",
       "  'cold hands and feets': 32,\n",
       "  'mood swings': 33,\n",
       "  'anxiety': 34,\n",
       "  'knee pain': 35,\n",
       "  'stiff neck': 36,\n",
       "  'swelling joints': 37,\n",
       "  'pus filled pimples': 38,\n",
       "  'bladder discomfort': 39,\n",
       "  'skin peeling': 40,\n",
       "  'blister': 41},\n",
       " 'Symptom_3': {'nodal skin eruptions': 0,\n",
       "  'chills': 1,\n",
       "  'ulcers on tongue': 2,\n",
       "  'vomiting': 3,\n",
       "  'yellowish skin': 4,\n",
       "  'nausea': 5,\n",
       "  'stomach pain': 6,\n",
       "  'burning micturition': 7,\n",
       "  'abdominal pain': 8,\n",
       "  'loss of appetite': 9,\n",
       "  'high fever': 10,\n",
       "  'restlessness': 11,\n",
       "  'lethargy': 12,\n",
       "  'dehydration': 13,\n",
       "  'breathlessness': 14,\n",
       "  'dizziness': 15,\n",
       "  'loss of balance': 16,\n",
       "  'headache': 17,\n",
       "  'blurred and distorted vision': 18,\n",
       "  'neck pain': 19,\n",
       "  'weakness of one body side': 20,\n",
       "  'fatigue': 21,\n",
       "  'weight loss': 22,\n",
       "  'sweating': 23,\n",
       "  'joint pain': 24,\n",
       "  'dark urine': 25,\n",
       "  'swelling of stomach': 26,\n",
       "  'cough': 27,\n",
       "  'pain in anal region': 28,\n",
       "  'bloody stool': 29,\n",
       "  'bruising': 30,\n",
       "  'obesity': 31,\n",
       "  'cold hands and feets': 32,\n",
       "  'mood swings': 33,\n",
       "  'anxiety': 34,\n",
       "  'knee pain': 35,\n",
       "  'hip joint pain': 36,\n",
       "  'swelling joints': 37,\n",
       "  'movement stiffness': 38,\n",
       "  'spinning movements': 39,\n",
       "  'blackheads': 40,\n",
       "  'foul smell of urine': 41,\n",
       "  'skin peeling': 42,\n",
       "  'silver like dusting': 43,\n",
       "  'blister': 44,\n",
       "  'red sore around nose': 45},\n",
       " 'Symptom_4': {'dischromic  patches': 0,\n",
       "  'watering from eyes': 1,\n",
       "  'vomiting': 2,\n",
       "  'cough': 3,\n",
       "  'nausea': 4,\n",
       "  'loss of appetite': 5,\n",
       "  'burning micturition': 6,\n",
       "  'spotting  urination': 7,\n",
       "  'passage of gases': 8,\n",
       "  'abdominal pain': 9,\n",
       "  'extra marital contacts': 10,\n",
       "  'lethargy': 11,\n",
       "  'irregular sugar level': 12,\n",
       "  'diarrhoea': 13,\n",
       "  'breathlessness': 14,\n",
       "  'family history': 15,\n",
       "  'loss of balance': 16,\n",
       "  'lack of concentration': 17,\n",
       "  'blurred and distorted vision': 18,\n",
       "  'excessive hunger': 19,\n",
       "  'dizziness': 20,\n",
       "  'altered sensorium': 21,\n",
       "  'weight loss': 22,\n",
       "  'high fever': 23,\n",
       "  'sweating': 24,\n",
       "  'headache': 25,\n",
       "  'fatigue': 26,\n",
       "  'dark urine': 27,\n",
       "  'yellowish skin': 28,\n",
       "  'yellowing of eyes': 29,\n",
       "  'swelling of stomach': 30,\n",
       "  'distention of abdomen': 31,\n",
       "  'bloody stool': 32,\n",
       "  'irritation in anus': 33,\n",
       "  'chest pain': 34,\n",
       "  'obesity': 35,\n",
       "  'swollen legs': 36,\n",
       "  'mood swings': 37,\n",
       "  'restlessness': 38,\n",
       "  'hip joint pain': 39,\n",
       "  'swelling joints': 40,\n",
       "  'movement stiffness': 41,\n",
       "  'painful walking': 42,\n",
       "  'spinning movements': 43,\n",
       "  'scurring': 44,\n",
       "  'continuous feel of urine': 45,\n",
       "  'silver like dusting': 46,\n",
       "  'small dents in nails': 47,\n",
       "  'red sore around nose': 48,\n",
       "  'yellow crust ooze': 49}}"
      ]
     },
     "execution_count": 60,
     "metadata": {},
     "output_type": "execute_result"
    }
   ],
   "source": [
    "maps"
   ]
  },
  {
   "cell_type": "code",
   "execution_count": 61,
   "metadata": {},
   "outputs": [
    {
     "data": {
      "text/plain": [
       "array([ 0,  1,  2,  3,  4,  5,  6,  7,  8,  9, 10, 11, 12, 13, 14, 15, 16,\n",
       "       17, 18, 19, 20, 21, 22, 23, 24, 25, 26, 27, 28, 29, 30, 31, 32, 33,\n",
       "       34, 35, 36, 37, 38, 39, 40], dtype=int64)"
      ]
     },
     "execution_count": 61,
     "metadata": {},
     "output_type": "execute_result"
    }
   ],
   "source": [
    "data['Disease'].unique()"
   ]
  },
  {
   "cell_type": "code",
   "execution_count": 62,
   "metadata": {},
   "outputs": [],
   "source": [
    "file=open(\"mappings.txt\",\"w\")\n",
    "file.write(str(maps))\n",
    "file.close()"
   ]
  },
  {
   "cell_type": "code",
   "execution_count": 63,
   "metadata": {},
   "outputs": [
    {
     "data": {
      "text/html": [
       "<div>\n",
       "<style scoped>\n",
       "    .dataframe tbody tr th:only-of-type {\n",
       "        vertical-align: middle;\n",
       "    }\n",
       "\n",
       "    .dataframe tbody tr th {\n",
       "        vertical-align: top;\n",
       "    }\n",
       "\n",
       "    .dataframe thead th {\n",
       "        text-align: right;\n",
       "    }\n",
       "</style>\n",
       "<table border=\"1\" class=\"dataframe\">\n",
       "  <thead>\n",
       "    <tr style=\"text-align: right;\">\n",
       "      <th></th>\n",
       "      <th>Symptom_1</th>\n",
       "      <th>Symptom_2</th>\n",
       "      <th>Symptom_3</th>\n",
       "      <th>Symptom_4</th>\n",
       "    </tr>\n",
       "  </thead>\n",
       "  <tbody>\n",
       "    <tr>\n",
       "      <th>0</th>\n",
       "      <td>0</td>\n",
       "      <td>0</td>\n",
       "      <td>0</td>\n",
       "      <td>0</td>\n",
       "    </tr>\n",
       "    <tr>\n",
       "      <th>9</th>\n",
       "      <td>0</td>\n",
       "      <td>0</td>\n",
       "      <td>0</td>\n",
       "      <td>0</td>\n",
       "    </tr>\n",
       "    <tr>\n",
       "      <th>10</th>\n",
       "      <td>1</td>\n",
       "      <td>1</td>\n",
       "      <td>1</td>\n",
       "      <td>1</td>\n",
       "    </tr>\n",
       "    <tr>\n",
       "      <th>19</th>\n",
       "      <td>1</td>\n",
       "      <td>1</td>\n",
       "      <td>1</td>\n",
       "      <td>1</td>\n",
       "    </tr>\n",
       "    <tr>\n",
       "      <th>20</th>\n",
       "      <td>2</td>\n",
       "      <td>2</td>\n",
       "      <td>2</td>\n",
       "      <td>2</td>\n",
       "    </tr>\n",
       "  </tbody>\n",
       "</table>\n",
       "</div>"
      ],
      "text/plain": [
       "    Symptom_1  Symptom_2  Symptom_3  Symptom_4\n",
       "0           0          0          0          0\n",
       "9           0          0          0          0\n",
       "10          1          1          1          1\n",
       "19          1          1          1          1\n",
       "20          2          2          2          2"
      ]
     },
     "execution_count": 63,
     "metadata": {},
     "output_type": "execute_result"
    }
   ],
   "source": [
    "x=data.iloc[:,1:5]\n",
    "x.head()"
   ]
  },
  {
   "cell_type": "code",
   "execution_count": 64,
   "metadata": {},
   "outputs": [
    {
     "data": {
      "text/plain": [
       "0     0\n",
       "9     0\n",
       "10    1\n",
       "19    1\n",
       "20    2\n",
       "Name: Disease, dtype: int64"
      ]
     },
     "execution_count": 64,
     "metadata": {},
     "output_type": "execute_result"
    }
   ],
   "source": [
    "y=data['Disease']\n",
    "y.head()"
   ]
  },
  {
   "cell_type": "code",
   "execution_count": 65,
   "metadata": {},
   "outputs": [],
   "source": [
    "X_train,X_test,y_train,y_test=train_test_split(x,y,test_size=0.3,random_state=0)"
   ]
  },
  {
   "cell_type": "code",
   "execution_count": 66,
   "metadata": {},
   "outputs": [
    {
     "name": "stdout",
     "output_type": "stream",
     "text": [
      "Original dataset shape Counter({14: 94, 36: 91, 20: 90, 5: 89, 11: 89, 18: 89, 30: 88, 39: 87, 27: 87, 9: 87, 31: 86, 2: 86, 19: 85, 23: 85, 12: 85, 7: 84, 24: 84, 17: 84, 4: 83, 33: 83, 10: 82, 40: 82, 3: 81, 15: 81, 34: 80, 28: 80, 16: 80, 25: 77, 32: 77, 35: 75, 21: 75, 26: 74, 22: 74, 29: 63, 38: 59, 13: 59, 8: 58, 1: 55, 6: 53, 37: 52, 0: 47})\n"
     ]
    }
   ],
   "source": [
    "from collections import Counter\n",
    "\n",
    "\n",
    "print('Original dataset shape %s' % Counter(y_train))"
   ]
  },
  {
   "cell_type": "code",
   "execution_count": 67,
   "metadata": {},
   "outputs": [
    {
     "name": "stdout",
     "output_type": "stream",
     "text": [
      "After OverSampling, the shape of train_X: (3854, 4)\n",
      "After OverSampling, the shape of train_y: (3854,) \n",
      "\n"
     ]
    }
   ],
   "source": [
    "# import SMOTE module from imblearn library\n",
    "# pip install imblearn (if you don't have imblearn in your system)\n",
    "from imblearn.over_sampling import SMOTE\n",
    "sm = SMOTE(random_state = 2)\n",
    "X_train_res, y_train_res = sm.fit_resample(X_train, y_train.ravel())\n",
    "\n",
    "print('After OverSampling, the shape of train_X: {}'.format(X_train_res.shape))\n",
    "print('After OverSampling, the shape of train_y: {} \\n'.format(y_train_res.shape))\n",
    "\n"
   ]
  },
  {
   "cell_type": "code",
   "execution_count": 68,
   "metadata": {},
   "outputs": [
    {
     "name": "stdout",
     "output_type": "stream",
     "text": [
      "resampled dataset shape Counter({3: 94, 39: 94, 5: 94, 10: 94, 37: 94, 19: 94, 14: 94, 0: 94, 7: 94, 40: 94, 38: 94, 34: 94, 23: 94, 6: 94, 26: 94, 28: 94, 24: 94, 17: 94, 22: 94, 11: 94, 15: 94, 31: 94, 25: 94, 36: 94, 4: 94, 18: 94, 32: 94, 20: 94, 12: 94, 2: 94, 16: 94, 27: 94, 30: 94, 1: 94, 9: 94, 29: 94, 35: 94, 33: 94, 13: 94, 21: 94, 8: 94})\n"
     ]
    }
   ],
   "source": [
    "print('resampled dataset shape %s' % Counter(y_train_res))"
   ]
  },
  {
   "cell_type": "code",
   "execution_count": 69,
   "metadata": {},
   "outputs": [],
   "source": [
    "clf_rf=RandomForestClassifier(random_state=0)"
   ]
  },
  {
   "cell_type": "code",
   "execution_count": 70,
   "metadata": {},
   "outputs": [
    {
     "data": {
      "text/plain": [
       "RandomForestClassifier(random_state=0)"
      ]
     },
     "execution_count": 70,
     "metadata": {},
     "output_type": "execute_result"
    }
   ],
   "source": [
    "clf_rf.fit(X_train_res,y_train_res)"
   ]
  },
  {
   "cell_type": "code",
   "execution_count": 71,
   "metadata": {},
   "outputs": [],
   "source": [
    "y_pred=clf_rf.predict(X_test)"
   ]
  },
  {
   "cell_type": "code",
   "execution_count": 72,
   "metadata": {},
   "outputs": [],
   "source": [
    "acc_rf=accuracy_score(y_pred,y_test)\n",
    "cm_rf=confusion_matrix(y_pred,y_test)\n",
    "cr_rf=classification_report(y_pred,y_test)"
   ]
  },
  {
   "cell_type": "code",
   "execution_count": 73,
   "metadata": {},
   "outputs": [
    {
     "name": "stdout",
     "output_type": "stream",
     "text": [
      "0.9978134110787172\n",
      "[[25  0  0 ...  0  0  0]\n",
      " [ 0 17  0 ...  0  0  0]\n",
      " [ 0  0 34 ...  0  0  0]\n",
      " ...\n",
      " [ 0  0  0 ... 19  0  0]\n",
      " [ 0  0  0 ...  0 33  0]\n",
      " [ 0  0  0 ...  0  0 38]]\n",
      "              precision    recall  f1-score   support\n",
      "\n",
      "           0       1.00      1.00      1.00        25\n",
      "           1       1.00      1.00      1.00        17\n",
      "           2       1.00      1.00      1.00        34\n",
      "           3       1.00      1.00      1.00        39\n",
      "           4       1.00      1.00      1.00        37\n",
      "           5       1.00      1.00      1.00        31\n",
      "           6       1.00      1.00      1.00        25\n",
      "           7       1.00      1.00      1.00        36\n",
      "           8       1.00      1.00      1.00        20\n",
      "           9       1.00      1.00      1.00        33\n",
      "          10       1.00      1.00      1.00        38\n",
      "          11       1.00      1.00      1.00        31\n",
      "          12       1.00      1.00      1.00        35\n",
      "          13       1.00      1.00      1.00        19\n",
      "          14       1.00      1.00      1.00        26\n",
      "          15       1.00      1.00      1.00        39\n",
      "          16       1.00      1.00      1.00        40\n",
      "          17       1.00      1.00      1.00        36\n",
      "          18       1.00      1.00      1.00        31\n",
      "          19       1.00      0.95      0.97        37\n",
      "          20       1.00      1.00      1.00        30\n",
      "          21       1.00      1.00      1.00        45\n",
      "          22       0.96      1.00      0.98        44\n",
      "          23       1.00      1.00      1.00        35\n",
      "          24       1.00      1.00      1.00        36\n",
      "          25       1.00      1.00      1.00        43\n",
      "          26       0.98      1.00      0.99        45\n",
      "          27       1.00      0.97      0.99        34\n",
      "          28       1.00      1.00      1.00        40\n",
      "          29       1.00      1.00      1.00        15\n",
      "          30       1.00      1.00      1.00        32\n",
      "          31       1.00      1.00      1.00        34\n",
      "          32       1.00      1.00      1.00        43\n",
      "          33       1.00      1.00      1.00        37\n",
      "          34       1.00      1.00      1.00        40\n",
      "          35       1.00      1.00      1.00        45\n",
      "          36       1.00      1.00      1.00        29\n",
      "          37       1.00      1.00      1.00        26\n",
      "          38       1.00      1.00      1.00        19\n",
      "          39       1.00      1.00      1.00        33\n",
      "          40       1.00      1.00      1.00        38\n",
      "\n",
      "    accuracy                           1.00      1372\n",
      "   macro avg       1.00      1.00      1.00      1372\n",
      "weighted avg       1.00      1.00      1.00      1372\n",
      "\n"
     ]
    }
   ],
   "source": [
    "print(acc_rf)\n",
    "print(cm_rf)\n",
    "print(cr_rf)"
   ]
  },
  {
   "cell_type": "code",
   "execution_count": 74,
   "metadata": {},
   "outputs": [
    {
     "data": {
      "text/plain": [
       "['model_rf.joblib']"
      ]
     },
     "execution_count": 74,
     "metadata": {},
     "output_type": "execute_result"
    }
   ],
   "source": [
    "joblib.dump(clf_rf,'model_rf.joblib')"
   ]
  },
  {
   "cell_type": "code",
   "execution_count": 75,
   "metadata": {},
   "outputs": [
    {
     "data": {
      "text/plain": [
       "SVC(probability=True)"
      ]
     },
     "execution_count": 75,
     "metadata": {},
     "output_type": "execute_result"
    }
   ],
   "source": [
    "classifier_svm=SVC(probability=True)\n",
    "classifier_svm.fit(X_train_res,y_train_res)"
   ]
  },
  {
   "cell_type": "code",
   "execution_count": 76,
   "metadata": {},
   "outputs": [],
   "source": [
    "y_pred_svm=classifier_svm.predict(X_test)"
   ]
  },
  {
   "cell_type": "code",
   "execution_count": 77,
   "metadata": {
    "scrolled": true
   },
   "outputs": [],
   "source": [
    "acc_svm=accuracy_score(y_pred_svm,y_test)\n",
    "cm_svm=confusion_matrix(y_pred_svm,y_test)\n",
    "cr_svm=classification_report(y_pred_svm,y_test)"
   ]
  },
  {
   "cell_type": "code",
   "execution_count": 78,
   "metadata": {
    "scrolled": false
   },
   "outputs": [
    {
     "name": "stdout",
     "output_type": "stream",
     "text": [
      "0.89067055393586\n",
      "[[25  0  0 ...  0  0  0]\n",
      " [ 0 17  0 ...  0  0  0]\n",
      " [ 0  0 34 ...  0  0  0]\n",
      " ...\n",
      " [ 0  0  0 ... 19  0  1]\n",
      " [ 0  0  0 ...  0 33  0]\n",
      " [ 0  0  0 ...  0  0 37]]\n",
      "              precision    recall  f1-score   support\n",
      "\n",
      "           0       1.00      1.00      1.00        25\n",
      "           1       1.00      1.00      1.00        17\n",
      "           2       1.00      1.00      1.00        34\n",
      "           3       1.00      0.95      0.97        41\n",
      "           4       0.86      1.00      0.93        32\n",
      "           5       1.00      0.91      0.95        34\n",
      "           6       1.00      1.00      1.00        25\n",
      "           7       1.00      1.00      1.00        36\n",
      "           8       1.00      1.00      1.00        20\n",
      "           9       0.94      1.00      0.97        31\n",
      "          10       1.00      0.95      0.97        40\n",
      "          11       0.94      1.00      0.97        29\n",
      "          12       1.00      0.90      0.95        39\n",
      "          13       1.00      0.73      0.84        26\n",
      "          14       0.85      0.92      0.88        24\n",
      "          15       0.87      0.94      0.91        36\n",
      "          16       0.85      0.92      0.88        37\n",
      "          17       0.72      0.90      0.80        29\n",
      "          18       0.97      0.31      0.47        96\n",
      "          19       1.00      0.81      0.90        43\n",
      "          20       0.97      0.62      0.75        47\n",
      "          21       0.87      0.89      0.88        44\n",
      "          22       0.87      1.00      0.93        40\n",
      "          23       0.00      0.00      0.00         2\n",
      "          24       0.83      0.88      0.86        34\n",
      "          25       0.02      1.00      0.05         1\n",
      "          26       0.98      0.92      0.95        49\n",
      "          27       0.94      0.97      0.95        32\n",
      "          28       1.00      0.91      0.95        44\n",
      "          29       1.00      0.79      0.88        19\n",
      "          30       0.94      1.00      0.97        30\n",
      "          31       1.00      1.00      1.00        34\n",
      "          32       0.84      1.00      0.91        36\n",
      "          33       0.92      0.94      0.93        36\n",
      "          34       0.93      1.00      0.96        37\n",
      "          35       1.00      0.94      0.97        48\n",
      "          36       1.00      1.00      1.00        29\n",
      "          37       1.00      1.00      1.00        26\n",
      "          38       1.00      0.95      0.97        20\n",
      "          39       1.00      1.00      1.00        33\n",
      "          40       0.97      1.00      0.99        37\n",
      "\n",
      "    accuracy                           0.89      1372\n",
      "   macro avg       0.90      0.90      0.89      1372\n",
      "weighted avg       0.95      0.89      0.90      1372\n",
      "\n"
     ]
    }
   ],
   "source": [
    "print(acc_svm)\n",
    "print(cm_svm)\n",
    "print(cr_svm)"
   ]
  },
  {
   "cell_type": "code",
   "execution_count": 79,
   "metadata": {},
   "outputs": [],
   "source": [
    "from sklearn.neighbors import KNeighborsClassifier"
   ]
  },
  {
   "cell_type": "code",
   "execution_count": 80,
   "metadata": {},
   "outputs": [
    {
     "data": {
      "text/plain": [
       "KNeighborsClassifier()"
      ]
     },
     "execution_count": 80,
     "metadata": {},
     "output_type": "execute_result"
    }
   ],
   "source": [
    "knn_clf=KNeighborsClassifier()\n",
    "knn_clf.fit(X_train_res,y_train_res)"
   ]
  },
  {
   "cell_type": "code",
   "execution_count": 81,
   "metadata": {},
   "outputs": [
    {
     "data": {
      "text/plain": [
       "array([16, 18, 27, ..., 17,  7, 16], dtype=int64)"
      ]
     },
     "execution_count": 81,
     "metadata": {},
     "output_type": "execute_result"
    }
   ],
   "source": [
    "knn_pred=knn_clf.predict(X_test)\n",
    "knn_pred"
   ]
  },
  {
   "cell_type": "code",
   "execution_count": 82,
   "metadata": {},
   "outputs": [
    {
     "name": "stdout",
     "output_type": "stream",
     "text": [
      "Accuracy Score: 99.19825072886297\n"
     ]
    }
   ],
   "source": [
    "print(\"Accuracy Score:\",accuracy_score(y_test,knn_pred)*100)"
   ]
  },
  {
   "cell_type": "code",
   "execution_count": 83,
   "metadata": {},
   "outputs": [],
   "source": [
    "acc_knn=accuracy_score(y_test,knn_pred)"
   ]
  },
  {
   "cell_type": "code",
   "execution_count": 84,
   "metadata": {},
   "outputs": [
    {
     "name": "stdout",
     "output_type": "stream",
     "text": [
      "Confusion Matrix:\n",
      " [[25  0  0 ...  0  0  0]\n",
      " [ 0 17  0 ...  0  0  0]\n",
      " [ 0  0 34 ...  0  0  0]\n",
      " ...\n",
      " [ 0  0  0 ... 19  0  0]\n",
      " [ 0  0  0 ...  0 33  0]\n",
      " [ 0  0  0 ...  0  0 38]]\n"
     ]
    }
   ],
   "source": [
    "print(\"Confusion Matrix:\\n\",confusion_matrix(y_test,knn_pred))"
   ]
  },
  {
   "cell_type": "code",
   "execution_count": 85,
   "metadata": {},
   "outputs": [
    {
     "name": "stdout",
     "output_type": "stream",
     "text": [
      "Classification Report:\n",
      "               precision    recall  f1-score   support\n",
      "\n",
      "           0       1.00      1.00      1.00        25\n",
      "           1       1.00      1.00      1.00        17\n",
      "           2       1.00      1.00      1.00        34\n",
      "           3       1.00      1.00      1.00        39\n",
      "           4       1.00      1.00      1.00        37\n",
      "           5       1.00      1.00      1.00        31\n",
      "           6       1.00      1.00      1.00        25\n",
      "           7       1.00      1.00      1.00        36\n",
      "           8       1.00      1.00      1.00        20\n",
      "           9       1.00      1.00      1.00        33\n",
      "          10       1.00      1.00      1.00        38\n",
      "          11       1.00      1.00      1.00        31\n",
      "          12       1.00      1.00      1.00        35\n",
      "          13       1.00      1.00      1.00        19\n",
      "          14       1.00      0.85      0.92        26\n",
      "          15       1.00      1.00      1.00        39\n",
      "          16       1.00      1.00      1.00        40\n",
      "          17       1.00      1.00      1.00        36\n",
      "          18       1.00      1.00      1.00        31\n",
      "          19       0.95      1.00      0.97        35\n",
      "          20       1.00      1.00      1.00        30\n",
      "          21       1.00      1.00      1.00        45\n",
      "          22       1.00      0.96      0.98        46\n",
      "          23       1.00      1.00      1.00        35\n",
      "          24       1.00      0.89      0.94        36\n",
      "          25       1.00      1.00      1.00        43\n",
      "          26       1.00      0.98      0.99        46\n",
      "          27       0.97      1.00      0.99        33\n",
      "          28       1.00      1.00      1.00        40\n",
      "          29       0.79      1.00      0.88        15\n",
      "          30       1.00      1.00      1.00        32\n",
      "          31       1.00      1.00      1.00        34\n",
      "          32       1.00      1.00      1.00        43\n",
      "          33       0.90      1.00      0.95        37\n",
      "          34       1.00      1.00      1.00        40\n",
      "          35       1.00      1.00      1.00        45\n",
      "          36       1.00      1.00      1.00        29\n",
      "          37       1.00      1.00      1.00        26\n",
      "          38       1.00      1.00      1.00        19\n",
      "          39       1.00      1.00      1.00        33\n",
      "          40       1.00      1.00      1.00        38\n",
      "\n",
      "    accuracy                           0.99      1372\n",
      "   macro avg       0.99      0.99      0.99      1372\n",
      "weighted avg       0.99      0.99      0.99      1372\n",
      "\n"
     ]
    }
   ],
   "source": [
    "print(\"Classification Report:\\n\",classification_report(y_test,knn_pred))\n"
   ]
  },
  {
   "cell_type": "code",
   "execution_count": null,
   "metadata": {},
   "outputs": [],
   "source": []
  },
  {
   "cell_type": "code",
   "execution_count": 86,
   "metadata": {},
   "outputs": [],
   "source": [
    "#plotting accuracy graph\n",
    "x=['svm','rf','knn']\n",
    "y=[acc_svm,acc_rf,acc_knn]\n",
    "c=['red','green','blue']"
   ]
  },
  {
   "cell_type": "code",
   "execution_count": 87,
   "metadata": {},
   "outputs": [],
   "source": [
    "plt.bar(x,y,color=c)\n",
    "plt.xlabel('Algorithms')\n",
    "plt.ylabel('Accuracy Score')\n",
    "plt.title('Comparison Graph')\n",
    "#plt.show()\n",
    "plt.savefig('acc_graph.png')\n",
    "plt.close()"
   ]
  },
  {
   "cell_type": "code",
   "execution_count": null,
   "metadata": {},
   "outputs": [],
   "source": []
  }
 ],
 "metadata": {
  "kernelspec": {
   "display_name": "Python 3",
   "language": "python",
   "name": "python3"
  },
  "language_info": {
   "codemirror_mode": {
    "name": "ipython",
    "version": 3
   },
   "file_extension": ".py",
   "mimetype": "text/x-python",
   "name": "python",
   "nbconvert_exporter": "python",
   "pygments_lexer": "ipython3",
   "version": "3.6.5"
  }
 },
 "nbformat": 4,
 "nbformat_minor": 2
}
